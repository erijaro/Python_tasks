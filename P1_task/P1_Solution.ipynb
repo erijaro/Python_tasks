{
 "cells": [
  {
   "cell_type": "code",
   "execution_count": null,
   "id": "83f62a12",
   "metadata": {},
   "outputs": [],
   "source": [
    "import pandas as pd\n",
    "import os\n",
    "import researchpy as rp\n",
    "import scipy.stats as stats\n",
    "import numpy as np\n",
    "import seaborn as sns\n",
    "import matplotlib.pyplot as plt"
   ]
  },
  {
   "cell_type": "code",
   "execution_count": null,
   "id": "0fff00cd",
   "metadata": {},
   "outputs": [],
   "source": [
    "#load data\n",
    "campaign_data = pd.read_csv('P1_Data.csv')\n",
    "creative_metadata = pd.read_csv('P1_Metadata.csv')"
   ]
  },
  {
   "cell_type": "code",
   "execution_count": null,
   "id": "aaea199b",
   "metadata": {},
   "outputs": [],
   "source": [
    "#check columns\n",
    "print(campaign_data.columns)\n",
    "print(creative_metadata.columns)"
   ]
  },
  {
   "cell_type": "code",
   "execution_count": null,
   "id": "fe1c57da",
   "metadata": {},
   "outputs": [],
   "source": [
    "print(len(campaign_data.index))\n",
    "print(len(creative_metadata.index))"
   ]
  },
  {
   "cell_type": "code",
   "execution_count": null,
   "id": "95e43ff9",
   "metadata": {},
   "outputs": [],
   "source": [
    "# merge tables\n",
    "combined = pd.merge(campaign_data, creative_metadata, on='ID', how='outer')"
   ]
  },
  {
   "cell_type": "code",
   "execution_count": null,
   "id": "41b416be",
   "metadata": {},
   "outputs": [],
   "source": [
    "# number of rows\n",
    "print(len(combined.index))"
   ]
  },
  {
   "cell_type": "code",
   "execution_count": null,
   "id": "0d2baaa8",
   "metadata": {
    "scrolled": true
   },
   "outputs": [],
   "source": [
    "# calculate % of Clicks vs Impressions\n",
    "combined['Percent_Clicks'] = (combined['Clicks'] / combined['Impressions'])*100\n",
    "# calculate % of Video completions vs Impressions\n",
    "combined['Percent_Completions'] = (combined['Video_Completions'] / combined['Impressions'])*100\n",
    "# calculate % of Video Starts vs Impressions\n",
    "combined['Percent_Starts'] = (combined['Video_Starts'] / combined['Impressions'])*100\n",
    "\n",
    "#filter only Vertical Video (Static Display will have 0s)\n",
    "combinedVV=combined[combined['Media_Format'].str.contains('Static Display')==False]"
   ]
  },
  {
   "cell_type": "code",
   "execution_count": null,
   "id": "07f3df3c",
   "metadata": {},
   "outputs": [],
   "source": [
    "#check merge - number of rows\n",
    "print('Number of rows Vertical Video:',len(combinedVV.index))\n",
    "\n",
    "#check merge - NAs\n",
    "print('Number of NAs:',combinedVV['Dominant_Colour'].isna().sum())\n",
    "\n",
    "#check how many have less than x impressions, probably not reliable to count %\n",
    "print('Less than 5 Impressions:',combinedVV['Impressions'][combinedVV['Impressions'] < 5.0].count())"
   ]
  },
  {
   "cell_type": "code",
   "execution_count": null,
   "id": "ba6186fc",
   "metadata": {},
   "outputs": [],
   "source": [
    "# top 10 Sites all - The name of the specific site the creative appeared on\n",
    "resultIM = combined.groupby(['Site'])['Impressions'].sum().rename('Sum_impressions').to_frame()\n",
    "resultIM['Percentage'] = resultIM['Sum_impressions']*100 / resultIM['Sum_impressions'].sum()\n",
    "resultIM10=resultIM['Percentage'].nlargest(n=10).rename('Percentage').to_frame()\n",
    "print('Total number of impressions:', sum(combined['Impressions']))\n",
    "print(resultIM10)"
   ]
  },
  {
   "cell_type": "code",
   "execution_count": null,
   "id": "009657f5",
   "metadata": {},
   "outputs": [],
   "source": [
    "# top 10 creative category\n",
    "resultCC = combined.groupby(['Creative_Category'])['Impressions'].sum().rename('Sum_impressions').to_frame()\n",
    "resultCC['Percentage'] = resultCC['Sum_impressions']*100 / resultCC['Sum_impressions'].sum()\n",
    "print(resultCC)"
   ]
  },
  {
   "cell_type": "code",
   "execution_count": null,
   "id": "3adef43e",
   "metadata": {},
   "outputs": [],
   "source": []
  },
  {
   "cell_type": "code",
   "execution_count": null,
   "id": "e5a4955f",
   "metadata": {},
   "outputs": [],
   "source": [
    "# media format all - The name of the specific site the creative appeared on\n",
    "resultMF = combined.groupby(['Media_Format'])['Impressions'].sum().rename('Sum_impressions').to_frame()\n",
    "resultMF['Percentage'] = resultMF['Sum_impressions']*100 / resultMF['Sum_impressions'].sum()\n",
    "print(resultMF)"
   ]
  },
  {
   "cell_type": "code",
   "execution_count": null,
   "id": "d2ad6273",
   "metadata": {},
   "outputs": [],
   "source": [
    "# clicks operating system\n",
    "CresultOSCC = combined.groupby(['Operating_System'])['Percent_Clicks'].mean().rename('Mean_per_Clicks').to_frame()\n",
    "print(round(CresultOSCC,2))"
   ]
  },
  {
   "cell_type": "code",
   "execution_count": null,
   "id": "e2ff2aae",
   "metadata": {},
   "outputs": [],
   "source": [
    "# clicks creative category\n",
    "CresultOSCC = combined.groupby(['Creative_Category'])['Percent_Clicks'].mean().rename('Mean_per_Clicks').to_frame()\n",
    "print(round(CresultOSCC,2))"
   ]
  },
  {
   "cell_type": "code",
   "execution_count": null,
   "id": "d7a83a5b",
   "metadata": {},
   "outputs": [],
   "source": [
    "# clicks dominant colour\n",
    "CresultOSCC = combined.groupby(['Dominant_Colour'])['Percent_Clicks'].mean().rename('Mean_per_Clicks').to_frame()\n",
    "print(round(CresultOSCC,2))"
   ]
  },
  {
   "cell_type": "code",
   "execution_count": null,
   "id": "6004a180",
   "metadata": {},
   "outputs": [],
   "source": [
    "# clicks creative format\n",
    "CresultCF = combined.groupby(['Media_Format','Creative_Format'])['Percent_Clicks'].mean().rename('Mean_per_Clicks').to_frame()\n",
    "print(round(CresultCF,2))"
   ]
  },
  {
   "cell_type": "code",
   "execution_count": null,
   "id": "19a703c5",
   "metadata": {},
   "outputs": [],
   "source": [
    "# creative category\n",
    "resultCreativeCat = combinedVV.groupby(['Creative_Category'])['Percent_Completions'].mean().rename('Mean_per_Completions').to_frame()\n",
    "resultCreativeCat['Mean_per_Starts'] = combinedVV.groupby(['Creative_Category'])['Percent_Starts'].mean()\n",
    "print(round(resultCreativeCat,2))"
   ]
  },
  {
   "cell_type": "code",
   "execution_count": null,
   "id": "151b0a31",
   "metadata": {},
   "outputs": [],
   "source": [
    "# operating system\n",
    "resultOSCC = combinedVV.groupby(['Operating_System','Creative_Category'])['Percent_Completions'].mean().rename('Mean_per_Completions').to_frame()\n",
    "resultOSCC['Mean_per_Starts'] = combinedVV.groupby(['Operating_System','Creative_Category'])['Percent_Starts'].mean()\n",
    "print(round(resultOSCC,2))"
   ]
  },
  {
   "cell_type": "code",
   "execution_count": null,
   "id": "7e2424d7",
   "metadata": {},
   "outputs": [],
   "source": [
    "# site category\n",
    "resultSC = combinedVV.groupby(['Creative_Category','Site_Category'])['Percent_Completions'].mean().rename('Mean_per_Completions').to_frame()\n",
    "resultSC['Mean_per_Starts'] = combinedVV.groupby(['Creative_Category','Site_Category'])['Percent_Starts'].mean()\n",
    "print(round(resultSC,2))"
   ]
  },
  {
   "cell_type": "code",
   "execution_count": null,
   "id": "2f8d4d0e",
   "metadata": {},
   "outputs": [],
   "source": [
    "# creative name\n",
    "resultCN = combinedVV.groupby(['Creative_Category','Creative_Name'])['Percent_Completions'].mean().rename('Mean_per_Completions').to_frame()\n",
    "resultCN['Mean_per_Starts'] = combinedVV.groupby(['Creative_Category','Creative_Name'])['Percent_Starts'].mean()\n",
    "print(round(resultCN,2))"
   ]
  },
  {
   "cell_type": "code",
   "execution_count": null,
   "id": "576b038f",
   "metadata": {},
   "outputs": [],
   "source": [
    "# creative name\n",
    "resultCN = combinedVV.groupby(['Creative_Category','Creative_Name'])['Percent_Completions'].mean().rename('Mean_per_Completions').to_frame()\n",
    "resultCN['Mean_per_Starts'] = combinedVV.groupby(['Creative_Category','Creative_Name'])['Percent_Starts'].mean()\n",
    "print(round(resultCN,2))"
   ]
  },
  {
   "cell_type": "code",
   "execution_count": null,
   "id": "d669df36",
   "metadata": {},
   "outputs": [],
   "source": []
  },
  {
   "cell_type": "code",
   "execution_count": null,
   "id": "236016bd",
   "metadata": {},
   "outputs": [],
   "source": [
    "combinedVV"
   ]
  },
  {
   "cell_type": "code",
   "execution_count": null,
   "id": "1da2d918",
   "metadata": {},
   "outputs": [],
   "source": [
    "resultDW = combinedVV.groupby(['Creative_Category','Day_of_Week'])['Percent_Starts'].mean().rename('Mean_per_Completions').to_frame()\n",
    "print(resultDW)"
   ]
  },
  {
   "cell_type": "code",
   "execution_count": null,
   "id": "3f1c791b",
   "metadata": {},
   "outputs": [],
   "source": [
    "resultS = combinedVV.groupby(['Creative_Category','Site'])['Percent_Completions'].mean().rename('Mean_per_Completions').to_frame()\n",
    "resultS['Mean_per_Starts'] = combinedVV.groupby(['Creative_Category','Site'])['Percent_Starts'].mean()\n",
    "print(round(resultS,2))"
   ]
  },
  {
   "cell_type": "code",
   "execution_count": null,
   "id": "722e32df",
   "metadata": {},
   "outputs": [],
   "source": []
  }
 ],
 "metadata": {
  "kernelspec": {
   "display_name": "Python 3 (ipykernel)",
   "language": "python",
   "name": "python3"
  },
  "language_info": {
   "codemirror_mode": {
    "name": "ipython",
    "version": 3
   },
   "file_extension": ".py",
   "mimetype": "text/x-python",
   "name": "python",
   "nbconvert_exporter": "python",
   "pygments_lexer": "ipython3",
   "version": "3.9.13"
  }
 },
 "nbformat": 4,
 "nbformat_minor": 5
}
